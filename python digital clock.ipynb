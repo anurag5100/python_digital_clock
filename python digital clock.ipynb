{
 "cells": [
  {
   "cell_type": "code",
   "execution_count": 1,
   "id": "8923496c",
   "metadata": {},
   "outputs": [],
   "source": [
    "from tkinter import *\n",
    "from time import strftime\n",
    "root=Tk()\n",
    "\n",
    "root.title('Digital Clock')\n",
    "root.geometry('600x130')\n",
    "\n",
    "def display_time():\n",
    "    c_time=strftime('%I:%M:%S %p')\n",
    "    lable_time.config(text=c_time)\n",
    "    lable_time.after(1000,display_time)\n",
    "\n",
    "lable_time=Label(root,text='Time',font=('Arial',60),bg='white',fg='red')\n",
    "lable_time.pack()\n",
    "display_time()\n",
    "\n",
    "\n",
    "root.mainloop()\n"
   ]
  }
 ],
 "metadata": {
  "kernelspec": {
   "display_name": "Python 3 (ipykernel)",
   "language": "python",
   "name": "python3"
  },
  "language_info": {
   "codemirror_mode": {
    "name": "ipython",
    "version": 3
   },
   "file_extension": ".py",
   "mimetype": "text/x-python",
   "name": "python",
   "nbconvert_exporter": "python",
   "pygments_lexer": "ipython3",
   "version": "3.9.7"
  }
 },
 "nbformat": 4,
 "nbformat_minor": 5
}
